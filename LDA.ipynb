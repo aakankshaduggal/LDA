{
 "cells": [
  {
   "cell_type": "code",
   "execution_count": 3,
   "metadata": {},
   "outputs": [],
   "source": [
    "import re\n",
    "import pandas as pd\n",
    "from collections import defaultdict\n",
    "import operator\n",
    "from pprint import pprint\n",
    "import os\n",
    "import glob\n",
    "\n",
    "# Set Pandas to display all rows of dataframes\n",
    "pd.set_option('display.max_rows', 500)\n",
    "\n",
    "# Gensim\n",
    "import gensim\n",
    "import gensim.corpora as corpora\n",
    "from gensim.utils import simple_preprocess\n",
    "from gensim.models import CoherenceModel\n",
    "\n",
    "# spacy for lemmatization\n",
    "import spacy\n",
    "\n",
    "# Plotting tools\n",
    "import pyLDAvis\n",
    "import pyLDAvis.gensim  # don't skip this\n",
    "import matplotlib.pyplot as plt\n",
    "%matplotlib inline\n",
    "\n",
    "# Enable logging for gensim - optional\n",
    "import logging\n",
    "logging.basicConfig(format='%(asctime)s : %(levelname)s : %(message)s', level=logging.ERROR)\n",
    "\n",
    "import warnings\n",
    "warnings.filterwarnings(\"ignore\", category=DeprecationWarning)"
   ]
  },
  {
   "cell_type": "code",
   "execution_count": 4,
   "metadata": {},
   "outputs": [],
   "source": [
    "# NLTK Stop words\n",
    "from nltk.corpus import stopwords\n",
    "stop_words = stopwords.words('english')\n",
    "#stop_words.extend(['from', 'subject', 're', 'edu', 'use'])\n"
   ]
  },
  {
   "cell_type": "code",
   "execution_count": 14,
   "metadata": {},
   "outputs": [
    {
     "name": "stdout",
     "output_type": "stream",
     "text": [
      "['/home/aakankshaduggal/ai-ingest/datahub/ai/ingest/sentiment_analysis/EBC_data/Aetna 07_31_18.txt']\n"
     ]
    }
   ],
   "source": [
    "path = \"/home/aakankshaduggal/ai-ingest/datahub/ai/ingest/sentiment_analysis/EBC_data/\"\n",
    "files = [f for f in glob.glob(path + \"Aetna 07_31_18.txt\", recursive=True)]\n",
    "print(files) \n"
   ]
  },
  {
   "cell_type": "code",
   "execution_count": 16,
   "metadata": {},
   "outputs": [
    {
     "name": "stdout",
     "output_type": "stream",
     "text": [
      "Customer/Partner Name:Briefing Date:  Tuesday7/31 (San Francisco)9-1 Need to figure out logistics and accessImportant Customer Background Information:Client Relationship, Red Hat Technology Update focusing on Container Technology, On premise Cloud, Infrastructure as Code and Automation.  Client has OCP, OpenStack and Anisible in Production today.Primary Focus for the Briefing:OpenStackOpenShift/CoreOS Futures,  Infrastructure as Code, AnsibleNext Gen Cloud Service Catalog managementNO CLOUDFORMSMain Product/Solutions wanting to discuss:Additional Notes:Reza Shafii (CoreOS)Briefing Date: Tuesday July 31st half-day 8:30 -1:00pmImportant Customer Background Information:Aetna is one of the largest health insurers in the US, also offers life and disability insurance, as well as retirement savings products. Its health care division offers HMO, PPO, point of service (POS), health savings account (HSA), and traditional indemnity coverage, along with dental, vision, behavioral health, and Medicare and Medicaid plans, to groups and individuals. The health care segment covers some 23 million medical members. Aetna's sold it group insurance segment to The Hartford.  In what would be the largest health insurance deal in history, retail pharmacy giant CVS plans to buy Aetna for $69 billion.Primary Focus for the Briefing:Client Relationship, Red Hat Technology Update focusing on Container Technology, On premise Cloud, Infrastructure as Code and Automation.  Client has OCP, OpenStack and Anisible in Production today.Main Product/Solutions wanting to discuss:Additional Notes:\n",
      "\n",
      "text \n",
      "....\n",
      "\n"
     ]
    }
   ],
   "source": [
    "\n",
    "#Make a list\n",
    "for i in range(len(files)):\n",
    "    file = files[i]\n",
    "    f = open(file,\"r\")\n",
    "    if f.mode ==\"r\":\n",
    "        contents = f.read()\n",
    "        print(contents)\n",
    "    data = [contents.replace('\\t','')]\n",
    "# print(data[1])\n",
    "# #Print the text of the files\n",
    "# for file in files:\n",
    "#     f = open(file,\"r\")\n",
    "#     if f.mode ==\"r\":\n",
    "#       contents = f.read()\n",
    "#       print(contents)"
   ]
  },
  {
   "cell_type": "code",
   "execution_count": 17,
   "metadata": {},
   "outputs": [
    {
     "name": "stdout",
     "output_type": "stream",
     "text": [
      "[['customer', 'partner', 'name', 'briefing', 'date', 'tuesday', 'san', 'francisco', 'need', 'to', 'figure', 'out', 'logistics', 'and', 'accessimportant', 'customer', 'background', 'information', 'client', 'relationship', 'red', 'hat', 'technology', 'update', 'focusing', 'on', 'container', 'technology', 'on', 'premise', 'cloud', 'infrastructure', 'as', 'code', 'and', 'automation', 'client', 'has', 'ocp', 'openstack', 'and', 'anisible', 'in', 'production', 'today', 'primary', 'focus', 'for', 'the', 'briefing', 'coreos', 'futures', 'infrastructure', 'as', 'code', 'ansiblenext', 'gen', 'cloud', 'service', 'catalog', 'managementno', 'cloudformsmain', 'product', 'solutions', 'wanting', 'to', 'discuss', 'additional', 'notes', 'reza', 'shafii', 'coreos', 'briefing', 'date', 'tuesday', 'july', 'st', 'half', 'day', 'pmimportant', 'customer', 'background', 'information', 'aetna', 'is', 'one', 'of', 'the', 'largest', 'health', 'insurers', 'in', 'the', 'us', 'also', 'offers', 'life', 'and', 'disability', 'insurance', 'as', 'well', 'as', 'retirement', 'savings', 'products', 'its', 'health', 'care', 'division', 'offers', 'hmo', 'ppo', 'point', 'of', 'service', 'pos', 'health', 'savings', 'account', 'hsa', 'and', 'traditional', 'indemnity', 'coverage', 'along', 'with', 'dental', 'vision', 'behavioral', 'health', 'and', 'medicare', 'and', 'medicaid', 'plans', 'to', 'groups', 'and', 'individuals', 'the', 'health', 'care', 'segment', 'covers', 'some', 'million', 'medical', 'members', 'aetna', 'sold', 'it', 'group', 'insurance', 'segment', 'to', 'the', 'hartford', 'in', 'what', 'would', 'be', 'the', 'largest', 'health', 'insurance', 'deal', 'in', 'history', 'retail', 'pharmacy', 'giant', 'cvs', 'plans', 'to', 'buy', 'aetna', 'for', 'billion', 'primary', 'focus', 'for', 'the', 'briefing', 'client', 'relationship', 'red', 'hat', 'technology', 'update', 'focusing', 'on', 'container', 'technology', 'on', 'premise', 'cloud', 'infrastructure', 'as', 'code', 'and', 'automation', 'client', 'has', 'ocp', 'openstack', 'and', 'anisible', 'in', 'production', 'today', 'main', 'product', 'solutions', 'wanting', 'to', 'discuss', 'additional', 'notes', 'text']]\n"
     ]
    }
   ],
   "source": [
    "def sent_to_words(sentences):\n",
    "    for sentence in sentences:\n",
    "        yield(gensim.utils.simple_preprocess(str(sentence), deacc=True))  # deacc=True removes punctuations\n",
    "\n",
    "data_words = list(sent_to_words(data))\n",
    "\n",
    "print(data_words[:1])\n"
   ]
  },
  {
   "cell_type": "code",
   "execution_count": 18,
   "metadata": {},
   "outputs": [
    {
     "name": "stdout",
     "output_type": "stream",
     "text": [
      "['customer', 'partner', 'name', 'briefing', 'date', 'tuesday', 'san', 'francisco', 'need', 'to', 'figure', 'out', 'logistics', 'and', 'accessimportant', 'customer', 'background', 'information', 'client', 'relationship', 'red', 'hat', 'technology', 'update', 'focusing', 'on', 'container', 'technology', 'on', 'premise', 'cloud', 'infrastructure', 'as', 'code', 'and', 'automation', 'client', 'has', 'ocp', 'openstack', 'and', 'anisible', 'in', 'production', 'today', 'primary', 'focus', 'for', 'the', 'briefing', 'coreos', 'futures', 'infrastructure', 'as', 'code', 'ansiblenext', 'gen', 'cloud', 'service', 'catalog', 'managementno', 'cloudformsmain', 'product', 'solutions', 'wanting', 'to', 'discuss', 'additional', 'notes', 'reza', 'shafii', 'coreos', 'briefing', 'date', 'tuesday', 'july', 'st', 'half', 'day', 'pmimportant', 'customer', 'background', 'information', 'aetna', 'is', 'one', 'of', 'the', 'largest', 'health', 'insurers', 'in', 'the', 'us', 'also', 'offers', 'life', 'and', 'disability', 'insurance', 'as', 'well', 'as', 'retirement', 'savings', 'products', 'its', 'health', 'care', 'division', 'offers', 'hmo', 'ppo', 'point', 'of', 'service', 'pos', 'health', 'savings', 'account', 'hsa', 'and', 'traditional', 'indemnity', 'coverage', 'along', 'with', 'dental', 'vision', 'behavioral', 'health', 'and', 'medicare', 'and', 'medicaid', 'plans', 'to', 'groups', 'and', 'individuals', 'the', 'health', 'care', 'segment', 'covers', 'some', 'million', 'medical', 'members', 'aetna', 'sold', 'it', 'group', 'insurance', 'segment', 'to', 'the', 'hartford', 'in', 'what', 'would', 'be', 'the', 'largest', 'health', 'insurance', 'deal', 'in', 'history', 'retail', 'pharmacy', 'giant', 'cvs', 'plans', 'to', 'buy', 'aetna', 'for', 'billion', 'primary', 'focus', 'for', 'the', 'briefing', 'client', 'relationship', 'red', 'hat', 'technology', 'update', 'focusing', 'on', 'container', 'technology', 'on', 'premise', 'cloud', 'infrastructure', 'as', 'code', 'and', 'automation', 'client', 'has', 'ocp', 'openstack', 'and', 'anisible', 'in', 'production', 'today', 'main', 'product', 'solutions', 'wanting', 'to', 'discuss', 'additional', 'notes', 'text']\n"
     ]
    }
   ],
   "source": [
    "# Build the bigram and trigram models\n",
    "bigram = gensim.models.Phrases(data_words, min_count=5, threshold=100) # higher threshold fewer phrases.\n",
    "trigram = gensim.models.Phrases(bigram[data_words], threshold=100)  \n",
    "\n",
    "# Faster way to get a sentence clubbed as a trigram/bigram\n",
    "bigram_mod = gensim.models.phrases.Phraser(bigram)\n",
    "trigram_mod = gensim.models.phrases.Phraser(trigram)\n",
    "\n",
    "# See trigram example\n",
    "print(trigram_mod[bigram_mod[data_words[0]]])"
   ]
  },
  {
   "cell_type": "code",
   "execution_count": 19,
   "metadata": {},
   "outputs": [],
   "source": [
    "# Define functions for stopwords, bigrams, trigrams and lemmatization\n",
    "def remove_stopwords(texts):\n",
    "    return [[word for word in simple_preprocess(str(doc)) if word not in stop_words] for doc in texts]\n",
    "\n",
    "def make_bigrams(texts):\n",
    "    return [bigram_mod[doc] for doc in texts]\n",
    "\n",
    "def make_trigrams(texts):\n",
    "    return [trigram_mod[bigram_mod[doc]] for doc in texts]\n",
    "\n",
    "def lemmatization(texts, allowed_postags=['NOUN', 'ADJ', 'VERB', 'ADV']):\n",
    "    \"\"\"https://spacy.io/api/annotation\"\"\"\n",
    "    texts_out = []\n",
    "    for sent in texts:\n",
    "        doc = nlp(\" \".join(sent)) \n",
    "        texts_out.append([token.lemma_ for token in doc])# if token.pos_ in allowed_postags])\n",
    "    return texts_out\n"
   ]
  },
  {
   "cell_type": "code",
   "execution_count": 20,
   "metadata": {},
   "outputs": [
    {
     "name": "stdout",
     "output_type": "stream",
     "text": [
      "[['customer', 'partner', 'name', 'brief', 'date', 'tuesday', 'san', 'francisco', 'need', 'figure', 'logistic', 'accessimportant', 'customer', 'background', 'information', 'client', 'relationship', 'red', 'hat', 'technology', 'update', 'focus', 'container', 'technology', 'premise', 'cloud', 'infrastructure', 'code', 'automation', 'client', 'ocp', 'openstack', 'anisible', 'production', 'today', 'primary', 'focus', 'brief', 'coreos', 'future', 'infrastructure', 'code', 'ansiblenext', 'gen', 'cloud', 'service', 'catalog', 'managementno', 'cloudformsmain', 'product', 'solution', 'want', 'discuss', 'additional', 'note', 'reza', 'shafii', 'coreo', 'brief', 'date', 'tuesday', 'july', 'st', 'half', 'day', 'pmimportant', 'customer', 'background', 'information', 'aetna', 'one', 'large', 'health', 'insurer', '-PRON-', 'also', 'offer', 'life', 'disability', 'insurance', 'well', 'retirement', 'saving', 'product', 'health', 'care', 'division', 'offer', 'hmo', 'ppo', 'point', 'service', 'pos', 'health', 'saving', 'account', 'hsa', 'traditional', 'indemnity', 'coverage', 'along', 'dental', 'vision', 'behavioral', 'health', 'medicare', 'medicaid', 'plan', 'group', 'individual', 'health', 'care', 'segment', 'cover', 'million', 'medical', 'member', 'aetna', 'sell', 'group', 'insurance', 'segment', 'hartford', 'would', 'large', 'health', 'insurance', 'deal', 'history', 'retail', 'pharmacy', 'giant', 'cvs', 'plan', 'buy', 'aetna', 'billion', 'primary', 'focus', 'brief', 'client', 'relationship', 'red', 'hat', 'technology', 'update', 'focus', 'container', 'technology', 'premise', 'cloud', 'infrastructure', 'code', 'automation', 'client', 'ocp', 'openstack', 'anisible', 'production', 'today', 'main', 'product', 'solution', 'want', 'discuss', 'additional', 'note', 'text']]\n"
     ]
    }
   ],
   "source": [
    "# Remove Stop Words\n",
    "data_words_nostops = remove_stopwords(data_words)\n",
    "\n",
    "# Form Bigrams\n",
    "data_words_bigrams = make_bigrams(data_words_nostops)\n",
    "\n",
    "# Initialize spacy 'en' model, keeping only tagger component (for efficiency)\n",
    "# python3 -m spacy download en\n",
    "nlp = spacy.load('en', disable=['parser', 'ner'])\n",
    "\n",
    "# Do lemmatization keeping only noun, adj, vb, adv\n",
    "data_lemmatized = lemmatization(data_words_bigrams, allowed_postags=['NOUN', 'ADJ', 'VERB', 'ADV'])\n",
    "\n",
    "print(data_lemmatized[:1])\n",
    "\n"
   ]
  },
  {
   "cell_type": "code",
   "execution_count": 21,
   "metadata": {},
   "outputs": [
    {
     "name": "stdout",
     "output_type": "stream",
     "text": [
      "['customer', 'partner', 'name', 'brief', 'date', 'tuesday', 'san', 'francisco', 'need', 'figure', 'logistic', 'accessimportant', 'customer', 'background', 'information', 'client', 'relationship', 'red', 'hat', 'technology', 'update', 'focus', 'container', 'technology', 'premise', 'cloud', 'infrastructure', 'code', 'automation', 'client', 'ocp', 'openstack', 'anisible', 'production', 'today', 'primary', 'focus', 'brief', 'coreos', 'future', 'infrastructure', 'code', 'ansiblenext', 'gen', 'cloud', 'service', 'catalog', 'managementno', 'cloudformsmain', 'product', 'solution', 'want', 'discuss', 'additional', 'note', 'reza', 'shafii', 'coreo', 'brief', 'date', 'tuesday', 'july', 'st', 'half', 'day', 'pmimportant', 'customer', 'background', 'information', 'aetna', 'one', 'large', 'health', 'insurer', '-PRON-', 'also', 'offer', 'life', 'disability', 'insurance', 'well', 'retirement', 'saving', 'product', 'health', 'care', 'division', 'offer', 'hmo', 'ppo', 'point', 'service', 'pos', 'health', 'saving', 'account', 'hsa', 'traditional', 'indemnity', 'coverage', 'along', 'dental', 'vision', 'behavioral', 'health', 'medicare', 'medicaid', 'plan', 'group', 'individual', 'health', 'care', 'segment', 'cover', 'million', 'medical', 'member', 'aetna', 'sell', 'group', 'insurance', 'segment', 'hartford', 'would', 'large', 'health', 'insurance', 'deal', 'history', 'retail', 'pharmacy', 'giant', 'cvs', 'plan', 'buy', 'aetna', 'billion', 'primary', 'focus', 'brief', 'client', 'relationship', 'red', 'hat', 'technology', 'update', 'focus', 'container', 'technology', 'premise', 'cloud', 'infrastructure', 'code', 'automation', 'client', 'ocp', 'openstack', 'anisible', 'production', 'today', 'main', 'product', 'solution', 'want', 'discuss', 'additional', 'note', 'text']\n"
     ]
    }
   ],
   "source": [
    "\n",
    "print(data_lemmatized[0])"
   ]
  },
  {
   "cell_type": "code",
   "execution_count": 22,
   "metadata": {},
   "outputs": [
    {
     "name": "stdout",
     "output_type": "stream",
     "text": [
      "[[(0, 1), (1, 1), (2, 1), (3, 2), (4, 3), (5, 1), (6, 1), (7, 2), (8, 1), (9, 2), (10, 2), (11, 1), (12, 1), (13, 4), (14, 1), (15, 2), (16, 1), (17, 4), (18, 3), (19, 1), (20, 3), (21, 2), (22, 1), (23, 1), (24, 1), (25, 1), (26, 3), (27, 1), (28, 2), (29, 1), (30, 1), (31, 1), (32, 1), (33, 2), (34, 1), (35, 1), (36, 4), (37, 1), (38, 1), (39, 1), (40, 1), (41, 2), (42, 1), (43, 1), (44, 2), (45, 6), (46, 1), (47, 1), (48, 1), (49, 1), (50, 1), (51, 2), (52, 3), (53, 3), (54, 1), (55, 1), (56, 2), (57, 1), (58, 1), (59, 1), (60, 1), (61, 1), (62, 1), (63, 1), (64, 1), (65, 1), (66, 1), (67, 1), (68, 2), (69, 2), (70, 2), (71, 1), (72, 2), (73, 1), (74, 1), (75, 2), (76, 1), (77, 1), (78, 1), (79, 1), (80, 2), (81, 2), (82, 3), (83, 2), (84, 2), (85, 2), (86, 1), (87, 1), (88, 1), (89, 1), (90, 2), (91, 2), (92, 1), (93, 2), (94, 1), (95, 2), (96, 1), (97, 4), (98, 1), (99, 2), (100, 1), (101, 2), (102, 2), (103, 1), (104, 2), (105, 1), (106, 1)]]\n"
     ]
    }
   ],
   "source": [
    "\n",
    "# Create Dictionary\n",
    "id2word = corpora.Dictionary(data_lemmatized)\n",
    "\n",
    "# Create Corpus\n",
    "texts = data_lemmatized\n",
    "\n",
    "# Term Document Frequency\n",
    "corpus = [id2word.doc2bow(text) for text in texts]\n",
    "\n",
    "# View\n",
    "print(corpus[:1])\n"
   ]
  },
  {
   "cell_type": "code",
   "execution_count": 23,
   "metadata": {},
   "outputs": [
    {
     "data": {
      "text/plain": [
       "[[('-PRON-', 1),\n",
       "  ('accessimportant', 1),\n",
       "  ('account', 1),\n",
       "  ('additional', 2),\n",
       "  ('aetna', 3),\n",
       "  ('along', 1),\n",
       "  ('also', 1),\n",
       "  ('anisible', 2),\n",
       "  ('ansiblenext', 1),\n",
       "  ('automation', 2),\n",
       "  ('background', 2),\n",
       "  ('behavioral', 1),\n",
       "  ('billion', 1),\n",
       "  ('brief', 4),\n",
       "  ('buy', 1),\n",
       "  ('care', 2),\n",
       "  ('catalog', 1),\n",
       "  ('client', 4),\n",
       "  ('cloud', 3),\n",
       "  ('cloudformsmain', 1),\n",
       "  ('code', 3),\n",
       "  ('container', 2),\n",
       "  ('coreo', 1),\n",
       "  ('coreos', 1),\n",
       "  ('cover', 1),\n",
       "  ('coverage', 1),\n",
       "  ('customer', 3),\n",
       "  ('cvs', 1),\n",
       "  ('date', 2),\n",
       "  ('day', 1),\n",
       "  ('deal', 1),\n",
       "  ('dental', 1),\n",
       "  ('disability', 1),\n",
       "  ('discuss', 2),\n",
       "  ('division', 1),\n",
       "  ('figure', 1),\n",
       "  ('focus', 4),\n",
       "  ('francisco', 1),\n",
       "  ('future', 1),\n",
       "  ('gen', 1),\n",
       "  ('giant', 1),\n",
       "  ('group', 2),\n",
       "  ('half', 1),\n",
       "  ('hartford', 1),\n",
       "  ('hat', 2),\n",
       "  ('health', 6),\n",
       "  ('history', 1),\n",
       "  ('hmo', 1),\n",
       "  ('hsa', 1),\n",
       "  ('indemnity', 1),\n",
       "  ('individual', 1),\n",
       "  ('information', 2),\n",
       "  ('infrastructure', 3),\n",
       "  ('insurance', 3),\n",
       "  ('insurer', 1),\n",
       "  ('july', 1),\n",
       "  ('large', 2),\n",
       "  ('life', 1),\n",
       "  ('logistic', 1),\n",
       "  ('main', 1),\n",
       "  ('managementno', 1),\n",
       "  ('medicaid', 1),\n",
       "  ('medical', 1),\n",
       "  ('medicare', 1),\n",
       "  ('member', 1),\n",
       "  ('million', 1),\n",
       "  ('name', 1),\n",
       "  ('need', 1),\n",
       "  ('note', 2),\n",
       "  ('ocp', 2),\n",
       "  ('offer', 2),\n",
       "  ('one', 1),\n",
       "  ('openstack', 2),\n",
       "  ('partner', 1),\n",
       "  ('pharmacy', 1),\n",
       "  ('plan', 2),\n",
       "  ('pmimportant', 1),\n",
       "  ('point', 1),\n",
       "  ('pos', 1),\n",
       "  ('ppo', 1),\n",
       "  ('premise', 2),\n",
       "  ('primary', 2),\n",
       "  ('product', 3),\n",
       "  ('production', 2),\n",
       "  ('red', 2),\n",
       "  ('relationship', 2),\n",
       "  ('retail', 1),\n",
       "  ('retirement', 1),\n",
       "  ('reza', 1),\n",
       "  ('san', 1),\n",
       "  ('saving', 2),\n",
       "  ('segment', 2),\n",
       "  ('sell', 1),\n",
       "  ('service', 2),\n",
       "  ('shafii', 1),\n",
       "  ('solution', 2),\n",
       "  ('st', 1),\n",
       "  ('technology', 4),\n",
       "  ('text', 1),\n",
       "  ('today', 2),\n",
       "  ('traditional', 1),\n",
       "  ('tuesday', 2),\n",
       "  ('update', 2),\n",
       "  ('vision', 1),\n",
       "  ('want', 2),\n",
       "  ('well', 1),\n",
       "  ('would', 1)]]"
      ]
     },
     "execution_count": 23,
     "metadata": {},
     "output_type": "execute_result"
    }
   ],
   "source": [
    "\n",
    "# Human readable format of corpus (term-frequency)\n",
    "[[(id2word[id], freq) for id, freq in cp] for cp in corpus[:1]]"
   ]
  },
  {
   "cell_type": "code",
   "execution_count": 24,
   "metadata": {},
   "outputs": [],
   "source": [
    "\n",
    "# Build LDA model\n",
    "lda_model = gensim.models.ldamodel.LdaModel(corpus=corpus,\n",
    "                                           id2word=id2word,\n",
    "                                           num_topics=20, \n",
    "                                           random_state=100,\n",
    "                                           update_every=1,\n",
    "                                           chunksize=100,\n",
    "                                           passes=10,\n",
    "                                           alpha='auto',\n",
    "                                           per_word_topics=True)\n"
   ]
  },
  {
   "cell_type": "code",
   "execution_count": 25,
   "metadata": {},
   "outputs": [
    {
     "name": "stdout",
     "output_type": "stream",
     "text": [
      "[(0,\n",
      "  '0.009*\"health\" + 0.009*\"brief\" + 0.009*\"focus\" + 0.009*\"code\" + '\n",
      "  '0.009*\"client\" + 0.009*\"technology\" + 0.009*\"product\" + '\n",
      "  '0.009*\"infrastructure\" + 0.009*\"today\" + 0.009*\"insurance\"'),\n",
      " (1,\n",
      "  '0.010*\"health\" + 0.010*\"cloud\" + 0.010*\"brief\" + 0.010*\"focus\" + '\n",
      "  '0.010*\"update\" + 0.010*\"client\" + 0.010*\"infrastructure\" + 0.010*\"aetna\" + '\n",
      "  '0.010*\"primary\" + 0.010*\"information\"'),\n",
      " (2,\n",
      "  '0.009*\"partner\" + 0.009*\"plan\" + 0.009*\"offer\" + 0.009*\"one\" + '\n",
      "  '0.009*\"openstack\" + 0.009*\"note\" + 0.009*\"pharmacy\" + 0.009*\"pos\" + '\n",
      "  '0.009*\"point\" + 0.009*\"name\"'),\n",
      " (3,\n",
      "  '0.009*\"partner\" + 0.009*\"plan\" + 0.009*\"offer\" + 0.009*\"one\" + '\n",
      "  '0.009*\"openstack\" + 0.009*\"note\" + 0.009*\"pharmacy\" + 0.009*\"pos\" + '\n",
      "  '0.009*\"point\" + 0.009*\"name\"'),\n",
      " (4,\n",
      "  '0.009*\"health\" + 0.009*\"technology\" + 0.009*\"client\" + 0.009*\"brief\" + '\n",
      "  '0.009*\"code\" + 0.009*\"focus\" + 0.009*\"infrastructure\" + 0.009*\"product\" + '\n",
      "  '0.009*\"hat\" + 0.009*\"aetna\"'),\n",
      " (5,\n",
      "  '0.009*\"partner\" + 0.009*\"plan\" + 0.009*\"offer\" + 0.009*\"one\" + '\n",
      "  '0.009*\"openstack\" + 0.009*\"note\" + 0.009*\"pharmacy\" + 0.009*\"pos\" + '\n",
      "  '0.009*\"point\" + 0.009*\"name\"'),\n",
      " (6,\n",
      "  '0.010*\"health\" + 0.010*\"technology\" + 0.010*\"product\" + 0.010*\"focus\" + '\n",
      "  '0.010*\"code\" + 0.010*\"brief\" + 0.009*\"client\" + 0.009*\"aetna\" + '\n",
      "  '0.009*\"cloud\" + 0.009*\"tuesday\"'),\n",
      " (7,\n",
      "  '0.009*\"partner\" + 0.009*\"plan\" + 0.009*\"offer\" + 0.009*\"one\" + '\n",
      "  '0.009*\"openstack\" + 0.009*\"note\" + 0.009*\"pharmacy\" + 0.009*\"pos\" + '\n",
      "  '0.009*\"point\" + 0.009*\"name\"'),\n",
      " (8,\n",
      "  '0.009*\"partner\" + 0.009*\"plan\" + 0.009*\"offer\" + 0.009*\"one\" + '\n",
      "  '0.009*\"openstack\" + 0.009*\"note\" + 0.009*\"pharmacy\" + 0.009*\"pos\" + '\n",
      "  '0.009*\"point\" + 0.009*\"name\"'),\n",
      " (9,\n",
      "  '0.009*\"partner\" + 0.009*\"plan\" + 0.009*\"offer\" + 0.009*\"one\" + '\n",
      "  '0.009*\"openstack\" + 0.009*\"note\" + 0.009*\"pharmacy\" + 0.009*\"pos\" + '\n",
      "  '0.009*\"point\" + 0.009*\"name\"'),\n",
      " (10,\n",
      "  '0.009*\"health\" + 0.009*\"brief\" + 0.009*\"client\" + 0.009*\"product\" + '\n",
      "  '0.009*\"cloud\" + 0.009*\"insurance\" + 0.009*\"technology\" + 0.009*\"focus\" + '\n",
      "  '0.009*\"customer\" + 0.009*\"infrastructure\"'),\n",
      " (11,\n",
      "  '0.011*\"health\" + 0.010*\"client\" + 0.010*\"brief\" + 0.010*\"focus\" + '\n",
      "  '0.010*\"cloud\" + 0.010*\"insurance\" + 0.010*\"technology\" + '\n",
      "  '0.010*\"infrastructure\" + 0.010*\"code\" + 0.010*\"saving\"'),\n",
      " (12,\n",
      "  '0.009*\"partner\" + 0.009*\"plan\" + 0.009*\"offer\" + 0.009*\"one\" + '\n",
      "  '0.009*\"openstack\" + 0.009*\"note\" + 0.009*\"pharmacy\" + 0.009*\"pos\" + '\n",
      "  '0.009*\"point\" + 0.009*\"name\"'),\n",
      " (13,\n",
      "  '0.009*\"health\" + 0.009*\"brief\" + 0.009*\"technology\" + 0.009*\"code\" + '\n",
      "  '0.009*\"focus\" + 0.009*\"client\" + 0.009*\"premise\" + 0.009*\"cloud\" + '\n",
      "  '0.009*\"product\" + 0.009*\"saving\"'),\n",
      " (14,\n",
      "  '0.009*\"partner\" + 0.009*\"plan\" + 0.009*\"offer\" + 0.009*\"one\" + '\n",
      "  '0.009*\"openstack\" + 0.009*\"note\" + 0.009*\"pharmacy\" + 0.009*\"pos\" + '\n",
      "  '0.009*\"point\" + 0.009*\"name\"'),\n",
      " (15,\n",
      "  '0.009*\"partner\" + 0.009*\"plan\" + 0.009*\"offer\" + 0.009*\"one\" + '\n",
      "  '0.009*\"openstack\" + 0.009*\"note\" + 0.009*\"pharmacy\" + 0.009*\"pos\" + '\n",
      "  '0.009*\"point\" + 0.009*\"name\"'),\n",
      " (16,\n",
      "  '0.010*\"health\" + 0.009*\"product\" + 0.009*\"brief\" + 0.009*\"technology\" + '\n",
      "  '0.009*\"focus\" + 0.009*\"client\" + 0.009*\"cloud\" + 0.009*\"infrastructure\" + '\n",
      "  '0.009*\"code\" + 0.009*\"aetna\"'),\n",
      " (17,\n",
      "  '0.009*\"partner\" + 0.009*\"plan\" + 0.009*\"offer\" + 0.009*\"one\" + '\n",
      "  '0.009*\"openstack\" + 0.009*\"note\" + 0.009*\"pharmacy\" + 0.009*\"pos\" + '\n",
      "  '0.009*\"point\" + 0.009*\"name\"'),\n",
      " (18,\n",
      "  '0.035*\"health\" + 0.023*\"technology\" + 0.023*\"focus\" + 0.023*\"client\" + '\n",
      "  '0.023*\"brief\" + 0.018*\"customer\" + 0.018*\"aetna\" + 0.018*\"code\" + '\n",
      "  '0.018*\"product\" + 0.018*\"insurance\"'),\n",
      " (19,\n",
      "  '0.009*\"technology\" + 0.009*\"health\" + 0.009*\"focus\" + 0.009*\"code\" + '\n",
      "  '0.009*\"brief\" + 0.009*\"client\" + 0.009*\"product\" + 0.009*\"cloud\" + '\n",
      "  '0.009*\"primary\" + 0.009*\"date\"')]\n"
     ]
    }
   ],
   "source": [
    "\n",
    "# Print the Keyword in the 20 topics\n",
    "pprint(lda_model.print_topics())\n",
    "doc_lda = lda_model[corpus]\n",
    "\n"
   ]
  },
  {
   "cell_type": "code",
   "execution_count": 26,
   "metadata": {},
   "outputs": [
    {
     "name": "stdout",
     "output_type": "stream",
     "text": [
      "Perplexity:  -6.0654350483701345\n",
      "Coherence Score:  0.46562501942595275\n"
     ]
    }
   ],
   "source": [
    "# Compute Perplexity\n",
    "print ('Perplexity: ', lda_model.log_perplexity(corpus))  # a measure of how good the model is. lower the better.\n",
    "\n",
    "# Compute Coherence Score\n",
    "coherence_model_lda = CoherenceModel(model=lda_model, texts=data_lemmatized, dictionary=id2word, coherence='c_v')\n",
    "coherence_lda = coherence_model_lda.get_coherence()\n",
    "print ('Coherence Score: ', coherence_lda)"
   ]
  },
  {
   "cell_type": "code",
   "execution_count": 27,
   "metadata": {},
   "outputs": [
    {
     "name": "stderr",
     "output_type": "stream",
     "text": [
      "/home/aakankshaduggal/env/lib64/python3.7/site-packages/pyLDAvis/_prepare.py:257: FutureWarning: Sorting because non-concatenation axis is not aligned. A future version\n",
      "of pandas will change to not sort by default.\n",
      "\n",
      "To accept the future behavior, pass 'sort=False'.\n",
      "\n",
      "To retain the current behavior and silence the warning, pass 'sort=True'.\n",
      "\n",
      "  return pd.concat([default_term_info] + list(topic_dfs))\n"
     ]
    },
    {
     "data": {
      "text/html": [
       "\n",
       "<link rel=\"stylesheet\" type=\"text/css\" href=\"https://cdn.rawgit.com/bmabey/pyLDAvis/files/ldavis.v1.0.0.css\">\n",
       "\n",
       "\n",
       "<div id=\"ldavis_el232391398456382434563536173132\"></div>\n",
       "<script type=\"text/javascript\">\n",
       "\n",
       "var ldavis_el232391398456382434563536173132_data = {\"mdsDat\": {\"x\": [0.0, 0.0, 0.0, 0.0, 0.0, 0.0, 0.0, 0.0, 0.0, 0.0, 0.0, 0.0, 0.0, 0.0, 0.0, 0.0, 0.0, 0.0, 0.0, 0.0], \"y\": [0.0, 0.0, 0.0, 0.0, 0.0, 0.0, 0.0, 0.0, 0.0, 0.0, 0.0, 0.0, 0.0, 0.0, 0.0, 0.0, 0.0, 0.0, 0.0, 0.0], \"topics\": [1, 2, 3, 4, 5, 6, 7, 8, 9, 10, 11, 12, 13, 14, 15, 16, 17, 18, 19, 20], \"cluster\": [1, 1, 1, 1, 1, 1, 1, 1, 1, 1, 1, 1, 1, 1, 1, 1, 1, 1, 1, 1], \"Freq\": [80.97138214111328, 1.001505970954895, 1.001505970954895, 1.001505970954895, 1.001505970954895, 1.001505970954895, 1.001505970954895, 1.001505970954895, 1.001505970954895, 1.001505970954895, 1.001505970954895, 1.001505970954895, 1.001505970954895, 1.001505970954895, 1.001505970954895, 1.001505970954895, 1.001505970954895, 1.001505970954895, 1.001505970954895, 1.001505970954895]}, \"tinfo\": {\"Category\": [\"Default\", \"Default\", \"Topic1\", \"Topic1\", \"Topic2\", \"Topic2\", \"Topic3\", \"Topic3\", \"Topic4\", \"Topic4\", \"Topic5\", \"Topic5\", \"Topic6\", \"Topic6\", \"Topic7\", \"Topic7\", \"Topic8\", \"Topic8\", \"Topic9\", \"Topic9\", \"Topic10\", \"Topic10\", \"Topic11\", \"Topic11\", \"Topic12\", \"Topic12\", \"Topic13\", \"Topic13\", \"Topic14\", \"Topic14\", \"Topic15\", \"Topic15\", \"Topic16\", \"Topic16\", \"Topic17\", \"Topic17\", \"Topic18\", \"Topic18\", \"Topic19\", \"Topic19\", \"Topic20\", \"Topic20\"], \"Freq\": [1.0, 1.0, 0.8097139596939087, 0.8097139596939087, 0.010015061125159264, 0.010015061125159264, 0.010015061125159264, 0.010015061125159264, 0.010015061125159264, 0.010015061125159264, 0.010015061125159264, 0.010015061125159264, 0.010015061125159264, 0.010015061125159264, 0.010015061125159264, 0.010015061125159264, 0.010015061125159264, 0.010015061125159264, 0.010015061125159264, 0.010015061125159264, 0.010015061125159264, 0.010015061125159264, 0.010015061125159264, 0.010015061125159264, 0.010015061125159264, 0.010015061125159264, 0.010015061125159264, 0.010015061125159264, 0.010015061125159264, 0.010015061125159264, 0.010015061125159264, 0.010015061125159264, 0.010015061125159264, 0.010015061125159264, 0.010015061125159264, 0.010015061125159264, 0.010015061125159264, 0.010015061125159264, 0.010015061125159264, 0.010015061125159264, 0.010015061125159264, 0.010015061125159264], \"Term\": [\"note\", \"text\", \"text\", \"note\", \"text\", \"note\", \"text\", \"note\", \"text\", \"note\", \"text\", \"note\", \"text\", \"note\", \"text\", \"note\", \"text\", \"note\", \"text\", \"note\", \"text\", \"note\", \"text\", \"note\", \"text\", \"note\", \"text\", \"note\", \"text\", \"note\", \"text\", \"note\", \"text\", \"note\", \"text\", \"note\", \"text\", \"note\", \"text\", \"note\", \"text\", \"note\"], \"Total\": [1.0, 1.0, 1.000000238418579, 1.000000238418579, 1.000000238418579, 1.000000238418579, 1.000000238418579, 1.000000238418579, 1.000000238418579, 1.000000238418579, 1.000000238418579, 1.000000238418579, 1.000000238418579, 1.000000238418579, 1.000000238418579, 1.000000238418579, 1.000000238418579, 1.000000238418579, 1.000000238418579, 1.000000238418579, 1.000000238418579, 1.000000238418579, 1.000000238418579, 1.000000238418579, 1.000000238418579, 1.000000238418579, 1.000000238418579, 1.000000238418579, 1.000000238418579, 1.000000238418579, 1.000000238418579, 1.000000238418579, 1.000000238418579, 1.000000238418579, 1.000000238418579, 1.000000238418579, 1.000000238418579, 1.000000238418579, 1.000000238418579, 1.000000238418579, 1.000000238418579, 1.000000238418579], \"loglift\": [2.0, 1.0, 0.0, 0.0, 0.0, 0.0, 0.0, 0.0, 0.0, 0.0, 0.0, 0.0, 0.0, 0.0, 0.0, 0.0, 0.0, 0.0, 0.0, 0.0, 0.0, 0.0, 0.0, 0.0, 0.0, 0.0, 0.0, 0.0, 0.0, 0.0, 0.0, 0.0, 0.0, 0.0, 0.0, 0.0, 0.0, 0.0, 0.0, 0.0, 0.0, 0.0], \"logprob\": [2.0, 1.0, -0.6930999755859375, -0.6930999755859375, -0.6930999755859375, -0.6930999755859375, -0.6930999755859375, -0.6930999755859375, -0.6930999755859375, -0.6930999755859375, -0.6930999755859375, -0.6930999755859375, -0.6930999755859375, -0.6930999755859375, -0.6930999755859375, -0.6930999755859375, -0.6930999755859375, -0.6930999755859375, -0.6930999755859375, -0.6930999755859375, -0.6930999755859375, -0.6930999755859375, -0.6930999755859375, -0.6930999755859375, -0.6930999755859375, -0.6930999755859375, -0.6930999755859375, -0.6930999755859375, -0.6930999755859375, -0.6930999755859375, -0.6930999755859375, -0.6930999755859375, -0.6930999755859375, -0.6930999755859375, -0.6930999755859375, -0.6930999755859375, -0.6930999755859375, -0.6930999755859375, -0.6930999755859375, -0.6930999755859375, -0.6930999755859375, -0.6930999755859375]}, \"token.table\": {\"Topic\": [1, 1], \"Freq\": [0.9999997615814209, 0.9999997615814209], \"Term\": [\"note\", \"text\"]}, \"R\": 2, \"lambda.step\": 0.01, \"plot.opts\": {\"xlab\": \"PC1\", \"ylab\": \"PC2\"}, \"topic.order\": [8, 20, 19, 2, 3, 4, 5, 6, 7, 9, 10, 11, 12, 13, 14, 15, 16, 17, 18, 1]};\n",
       "\n",
       "function LDAvis_load_lib(url, callback){\n",
       "  var s = document.createElement('script');\n",
       "  s.src = url;\n",
       "  s.async = true;\n",
       "  s.onreadystatechange = s.onload = callback;\n",
       "  s.onerror = function(){console.warn(\"failed to load library \" + url);};\n",
       "  document.getElementsByTagName(\"head\")[0].appendChild(s);\n",
       "}\n",
       "\n",
       "if(typeof(LDAvis) !== \"undefined\"){\n",
       "   // already loaded: just create the visualization\n",
       "   !function(LDAvis){\n",
       "       new LDAvis(\"#\" + \"ldavis_el232391398456382434563536173132\", ldavis_el232391398456382434563536173132_data);\n",
       "   }(LDAvis);\n",
       "}else if(typeof define === \"function\" && define.amd){\n",
       "   // require.js is available: use it to load d3/LDAvis\n",
       "   require.config({paths: {d3: \"https://cdnjs.cloudflare.com/ajax/libs/d3/3.5.5/d3.min\"}});\n",
       "   require([\"d3\"], function(d3){\n",
       "      window.d3 = d3;\n",
       "      LDAvis_load_lib(\"https://cdn.rawgit.com/bmabey/pyLDAvis/files/ldavis.v1.0.0.js\", function(){\n",
       "        new LDAvis(\"#\" + \"ldavis_el232391398456382434563536173132\", ldavis_el232391398456382434563536173132_data);\n",
       "      });\n",
       "    });\n",
       "}else{\n",
       "    // require.js not available: dynamically load d3 & LDAvis\n",
       "    LDAvis_load_lib(\"https://cdnjs.cloudflare.com/ajax/libs/d3/3.5.5/d3.min.js\", function(){\n",
       "         LDAvis_load_lib(\"https://cdn.rawgit.com/bmabey/pyLDAvis/files/ldavis.v1.0.0.js\", function(){\n",
       "                 new LDAvis(\"#\" + \"ldavis_el232391398456382434563536173132\", ldavis_el232391398456382434563536173132_data);\n",
       "            })\n",
       "         });\n",
       "}\n",
       "</script>"
      ],
      "text/plain": [
       "<IPython.core.display.HTML object>"
      ]
     },
     "execution_count": 27,
     "metadata": {},
     "output_type": "execute_result"
    }
   ],
   "source": [
    "# Visualize the topics\n",
    "pyLDAvis.enable_notebook()\n",
    "vis = pyLDAvis.gensim.prepare(lda_model, corpus, id2word)\n",
    "pyLDAvis.display(vis)\n"
   ]
  },
  {
   "cell_type": "code",
   "execution_count": 27,
   "metadata": {},
   "outputs": [
    {
     "name": "stderr",
     "output_type": "stream",
     "text": [
      "/home/aakankshaduggal/env/lib64/python3.7/site-packages/smart_open/smart_open_lib.py:398: UserWarning: This function is deprecated, use smart_open.open instead. See the migration notes for details: https://github.com/RaRe-Technologies/smart_open/blob/master/README.rst#migrating-to-the-new-open-function\n",
      "  'See the migration notes for details: %s' % _MIGRATION_NOTES_URL\n"
     ]
    }
   ],
   "source": [
    "# Download File: http://mallet.cs.umass.edu/dist/mallet-2.0.8.zip\n",
    "mallet_path = '/home/aakankshaduggal/Downloads/mallet-2.0.8/bin/mallet'\n",
    "\n",
    "ldamallet = gensim.models.wrappers.LdaMallet(mallet_path, corpus=corpus, num_topics=20, id2word=id2word)\n",
    "\n"
   ]
  },
  {
   "cell_type": "code",
   "execution_count": 28,
   "metadata": {},
   "outputs": [
    {
     "name": "stdout",
     "output_type": "stream",
     "text": [
      "[(0,\n",
      "  [('focus', 0.375),\n",
      "   ('today', 0.25),\n",
      "   ('giant', 0.125),\n",
      "   ('note', 0.125),\n",
      "   ('point', 0.125),\n",
      "   ('pmimportant', 0.0),\n",
      "   ('ocp', 0.0),\n",
      "   ('offer', 0.0),\n",
      "   ('one', 0.0),\n",
      "   ('plan', 0.0)]),\n",
      " (1,\n",
      "  [('cloud', 0.3333333333333333),\n",
      "   ('medicare', 0.1111111111111111),\n",
      "   ('hsa', 0.1111111111111111),\n",
      "   ('shafii', 0.1111111111111111),\n",
      "   ('client', 0.1111111111111111),\n",
      "   ('sell', 0.1111111111111111),\n",
      "   ('coverage', 0.1111111111111111),\n",
      "   ('offer', 0.0),\n",
      "   ('point', 0.0),\n",
      "   ('pmimportant', 0.0)]),\n",
      " (2,\n",
      "  [('hmo', 0.25),\n",
      "   ('half', 0.25),\n",
      "   ('future', 0.25),\n",
      "   ('pos', 0.25),\n",
      "   ('partner', 0.0),\n",
      "   ('plan', 0.0),\n",
      "   ('one', 0.0),\n",
      "   ('openstack', 0.0),\n",
      "   ('logistic', 0.0),\n",
      "   ('pharmacy', 0.0)]),\n",
      " (3,\n",
      "  [('infrastructure', 0.42857142857142855),\n",
      "   ('coreo', 0.14285714285714285),\n",
      "   ('cover', 0.14285714285714285),\n",
      "   ('saving', 0.14285714285714285),\n",
      "   ('catalog', 0.14285714285714285),\n",
      "   ('partner', 0.0),\n",
      "   ('pharmacy', 0.0),\n",
      "   ('pos', 0.0),\n",
      "   ('openstack', 0.0),\n",
      "   ('pmimportant', 0.0)]),\n",
      " (4,\n",
      "  [('solution', 0.4),\n",
      "   ('pharmacy', 0.2),\n",
      "   ('segment', 0.2),\n",
      "   ('note', 0.2),\n",
      "   ('offer', 0.0),\n",
      "   ('one', 0.0),\n",
      "   ('point', 0.0),\n",
      "   ('ocp', 0.0),\n",
      "   ('plan', 0.0),\n",
      "   ('openstack', 0.0)]),\n",
      " (5,\n",
      "  [('client', 0.42857142857142855),\n",
      "   ('anisible', 0.2857142857142857),\n",
      "   ('division', 0.14285714285714285),\n",
      "   ('hartford', 0.14285714285714285),\n",
      "   ('partner', 0.0),\n",
      "   ('plan', 0.0),\n",
      "   ('one', 0.0),\n",
      "   ('openstack', 0.0),\n",
      "   ('ocp', 0.0),\n",
      "   ('pos', 0.0)]),\n",
      " (6,\n",
      "  [('product', 0.2727272727272727),\n",
      "   ('large', 0.18181818181818182),\n",
      "   ('ansiblenext', 0.09090909090909091),\n",
      "   ('history', 0.09090909090909091),\n",
      "   ('focus', 0.09090909090909091),\n",
      "   ('service', 0.09090909090909091),\n",
      "   ('cvs', 0.09090909090909091),\n",
      "   ('account', 0.09090909090909091),\n",
      "   ('offer', 0.0),\n",
      "   ('openstack', 0.0)]),\n",
      " (7,\n",
      "  [('ocp', 0.2857142857142857),\n",
      "   ('container', 0.2857142857142857),\n",
      "   ('coreos', 0.14285714285714285),\n",
      "   ('deal', 0.14285714285714285),\n",
      "   ('insurer', 0.14285714285714285),\n",
      "   ('partner', 0.0),\n",
      "   ('pharmacy', 0.0),\n",
      "   ('one', 0.0),\n",
      "   ('openstack', 0.0),\n",
      "   ('point', 0.0)]),\n",
      " (8,\n",
      "  [('premise', 1.0),\n",
      "   ('partner', 0.0),\n",
      "   ('plan', 0.0),\n",
      "   ('offer', 0.0),\n",
      "   ('one', 0.0),\n",
      "   ('openstack', 0.0),\n",
      "   ('note', 0.0),\n",
      "   ('pos', 0.0),\n",
      "   ('point', 0.0),\n",
      "   ('pharmacy', 0.0)]),\n",
      " (9,\n",
      "  [('group', 0.3333333333333333),\n",
      "   ('update', 0.3333333333333333),\n",
      "   ('billion', 0.16666666666666666),\n",
      "   ('plan', 0.16666666666666666),\n",
      "   ('one', 0.0),\n",
      "   ('ocp', 0.0),\n",
      "   ('offer', 0.0),\n",
      "   ('pharmacy', 0.0),\n",
      "   ('openstack', 0.0),\n",
      "   ('point', 0.0)]),\n",
      " (10,\n",
      "  [('health', 0.42857142857142855),\n",
      "   ('technology', 0.2857142857142857),\n",
      "   ('partner', 0.07142857142857142),\n",
      "   ('july', 0.07142857142857142),\n",
      "   ('saving', 0.07142857142857142),\n",
      "   ('logistic', 0.07142857142857142),\n",
      "   ('openstack', 0.0),\n",
      "   ('point', 0.0),\n",
      "   ('offer', 0.0),\n",
      "   ('one', 0.0)]),\n",
      " (11,\n",
      "  [('primary', 0.25),\n",
      "   ('openstack', 0.25),\n",
      "   ('date', 0.25),\n",
      "   ('medical', 0.125),\n",
      "   ('medicaid', 0.125),\n",
      "   ('partner', 0.0),\n",
      "   ('pharmacy', 0.0),\n",
      "   ('offer', 0.0),\n",
      "   ('plan', 0.0),\n",
      "   ('ppo', 0.0)]),\n",
      " (12,\n",
      "  [('additional', 0.3333333333333333),\n",
      "   ('segment', 0.16666666666666666),\n",
      "   ('pmimportant', 0.16666666666666666),\n",
      "   ('individual', 0.16666666666666666),\n",
      "   ('francisco', 0.16666666666666666),\n",
      "   ('openstack', 0.0),\n",
      "   ('plan', 0.0),\n",
      "   ('one', 0.0),\n",
      "   ('ocp', 0.0),\n",
      "   ('point', 0.0)]),\n",
      " (13,\n",
      "  [('code', 0.2727272727272727),\n",
      "   ('hat', 0.18181818181818182),\n",
      "   ('background', 0.18181818181818182),\n",
      "   ('member', 0.09090909090909091),\n",
      "   ('service', 0.09090909090909091),\n",
      "   ('reza', 0.09090909090909091),\n",
      "   ('text', 0.09090909090909091),\n",
      "   ('one', 0.0),\n",
      "   ('offer', 0.0),\n",
      "   ('plan', 0.0)]),\n",
      " (14,\n",
      "  [('insurance', 0.23076923076923078),\n",
      "   ('customer', 0.23076923076923078),\n",
      "   ('automation', 0.07692307692307693),\n",
      "   ('day', 0.07692307692307693),\n",
      "   ('san', 0.07692307692307693),\n",
      "   ('gen', 0.07692307692307693),\n",
      "   ('behavioral', 0.07692307692307693),\n",
      "   ('ppo', 0.07692307692307693),\n",
      "   ('accessimportant', 0.07692307692307693),\n",
      "   ('pmimportant', 0.0)]),\n",
      " (15,\n",
      "  [('information', 0.6666666666666666),\n",
      "   ('life', 0.3333333333333333),\n",
      "   ('pharmacy', 0.0),\n",
      "   ('pmimportant', 0.0),\n",
      "   ('one', 0.0),\n",
      "   ('openstack', 0.0),\n",
      "   ('partner', 0.0),\n",
      "   ('ocp', 0.0),\n",
      "   ('pos', 0.0),\n",
      "   ('point', 0.0)]),\n",
      " (16,\n",
      "  [('tuesday', 0.4),\n",
      "   ('care', 0.4),\n",
      "   ('retirement', 0.2),\n",
      "   ('partner', 0.0),\n",
      "   ('offer', 0.0),\n",
      "   ('one', 0.0),\n",
      "   ('openstack', 0.0),\n",
      "   ('point', 0.0),\n",
      "   ('plan', 0.0),\n",
      "   ('pharmacy', 0.0)]),\n",
      " (17,\n",
      "  [('cloudformsmain', 0.16666666666666666),\n",
      "   ('main', 0.16666666666666666),\n",
      "   ('managementno', 0.16666666666666666),\n",
      "   ('-PRON-', 0.16666666666666666),\n",
      "   ('retail', 0.16666666666666666),\n",
      "   ('plan', 0.16666666666666666),\n",
      "   ('pmimportant', 0.0),\n",
      "   ('openstack', 0.0),\n",
      "   ('partner', 0.0),\n",
      "   ('offer', 0.0)]),\n",
      " (18,\n",
      "  [('red', 0.2),\n",
      "   ('relationship', 0.2),\n",
      "   ('production', 0.2),\n",
      "   ('automation', 0.1),\n",
      "   ('buy', 0.1),\n",
      "   ('st', 0.1),\n",
      "   ('dental', 0.1),\n",
      "   ('logistic', 0.0),\n",
      "   ('pmimportant', 0.0),\n",
      "   ('pharmacy', 0.0)]),\n",
      " (19,\n",
      "  [('aetna', 0.23076923076923078),\n",
      "   ('offer', 0.15384615384615385),\n",
      "   ('discuss', 0.15384615384615385),\n",
      "   ('traditional', 0.07692307692307693),\n",
      "   ('million', 0.07692307692307693),\n",
      "   ('indemnity', 0.07692307692307693),\n",
      "   ('figure', 0.07692307692307693),\n",
      "   ('vision', 0.07692307692307693),\n",
      "   ('disability', 0.07692307692307693),\n",
      "   ('openstack', 0.0)])]\n",
      "\n",
      "Coherence Score:  0.4608716788484172\n"
     ]
    }
   ],
   "source": [
    "# Show Topics\n",
    "pprint(ldamallet.show_topics(num_topics=1000, formatted=False))\n",
    "\n",
    "# Compute Coherence Score\n",
    "coherence_model_ldamallet = CoherenceModel(model=ldamallet, texts=data_lemmatized, dictionary=id2word, coherence='c_v')\n",
    "coherence_ldamallet = coherence_model_ldamallet.get_coherence()\n",
    "print('\\nCoherence Score: ', coherence_ldamallet)"
   ]
  },
  {
   "cell_type": "code",
   "execution_count": 29,
   "metadata": {},
   "outputs": [],
   "source": [
    "\n",
    "\n",
    "def compute_coherence_values(dictionary, corpus, texts, limit, start=2, step=3):\n",
    "    \"\"\"\n",
    "    Compute c_v coherence for various number of topics\n",
    "\n",
    "    Parameters:\n",
    "    ----------\n",
    "    dictionary : Gensim dictionary\n",
    "    corpus : Gensim corpus\n",
    "    texts : List of input texts\n",
    "    limit : Max num of topics\n",
    "\n",
    "    Returns:\n",
    "    -------\n",
    "    model_list : List of LDA topic models\n",
    "    coherence_values : Coherence values corresponding to the LDA model with respective number of topics\n",
    "    \"\"\"\n",
    "    coherence_values = []\n",
    "    model_list = []\n",
    "    for num_topics in range(start, limit, step):\n",
    "        print('Calculating {}-topic model'.format(num_topics))\n",
    "        model = gensim.models.wrappers.LdaMallet(mallet_path, corpus=corpus, num_topics=num_topics, id2word=id2word)\n",
    "        model_list.append(model)\n",
    "        coherencemodel = CoherenceModel(model=model, texts=texts, dictionary=dictionary, coherence='c_v')\n",
    "        coherence_values.append(coherencemodel.get_coherence())\n",
    "\n",
    "    return model_list, coherence_values\n",
    "\n"
   ]
  },
  {
   "cell_type": "code",
   "execution_count": 30,
   "metadata": {},
   "outputs": [
    {
     "name": "stdout",
     "output_type": "stream",
     "text": [
      "Calculating 2-topic model\n",
      "Calculating 3-topic model\n",
      "Calculating 4-topic model\n",
      "Calculating 5-topic model\n",
      "Calculating 6-topic model\n",
      "Calculating 7-topic model\n",
      "Calculating 8-topic model\n",
      "Calculating 9-topic model\n",
      "Calculating 10-topic model\n",
      "Calculating 11-topic model\n",
      "Calculating 12-topic model\n",
      "Calculating 13-topic model\n",
      "Calculating 14-topic model\n",
      "Calculating 15-topic model\n",
      "Calculating 16-topic model\n",
      "Calculating 17-topic model\n",
      "Calculating 18-topic model\n",
      "Calculating 19-topic model\n",
      "Calculating 20-topic model\n",
      "Calculating 21-topic model\n",
      "Calculating 22-topic model\n",
      "Calculating 23-topic model\n",
      "Calculating 24-topic model\n"
     ]
    },
    {
     "name": "stderr",
     "output_type": "stream",
     "text": [
      "/home/aakankshaduggal/env/lib64/python3.7/site-packages/gensim/models/wrappers/ldamallet.py:380: RuntimeWarning: invalid value encountered in true_divide\n",
      "  return topics / topics.sum(axis=1)[:, None]\n"
     ]
    },
    {
     "name": "stdout",
     "output_type": "stream",
     "text": [
      "Calculating 25-topic model\n",
      "Calculating 26-topic model\n",
      "Calculating 27-topic model\n",
      "Calculating 28-topic model\n",
      "Calculating 29-topic model\n",
      "Calculating 30-topic model\n",
      "Calculating 31-topic model\n",
      "Calculating 32-topic model\n",
      "Calculating 33-topic model\n",
      "Calculating 34-topic model\n"
     ]
    }
   ],
   "source": [
    "\n",
    "\n",
    "# Can take a long time to run.\n",
    "limit=35; start=2; step=1;\n",
    "model_list, coherence_values = compute_coherence_values(dictionary=id2word,\n",
    "                                                        corpus=corpus,\n",
    "                                                        texts=data_lemmatized,\n",
    "                                                        start=start,\n",
    "                                                        limit=limit,\n",
    "                                                        step=step)\n",
    "\n"
   ]
  },
  {
   "cell_type": "code",
   "execution_count": null,
   "metadata": {},
   "outputs": [],
   "source": []
  },
  {
   "cell_type": "code",
   "execution_count": 31,
   "metadata": {},
   "outputs": [
    {
     "data": {
      "image/png": "[encoded data removed]",
      "text/plain": [
       "<Figure size 1080x720 with 1 Axes>"
      ]
     },
     "metadata": {
      "needs_background": "light"
     },
     "output_type": "display_data"
    }
   ],
   "source": [
    "# Show graph\n",
    "x = range(start, limit, step)\n",
    "plt.figure(figsize=(15, 10))\n",
    "plt.plot(x, coherence_values)\n",
    "plt.xlabel(\"Num Topics\")\n",
    "plt.ylabel(\"Coherence score\")\n",
    "# plt.legend((\"coherence_values\"), loc='best')\n",
    "plt.show()\n"
   ]
  },
  {
   "cell_type": "code",
   "execution_count": 32,
   "metadata": {},
   "outputs": [
    {
     "name": "stdout",
     "output_type": "stream",
     "text": [
      "Num Topics = 2  has Coherence Value of 0.442394\n",
      "Num Topics = 3  has Coherence Value of 0.479195\n",
      "Num Topics = 4  has Coherence Value of 0.4777\n",
      "Num Topics = 5  has Coherence Value of 0.421133\n",
      "Num Topics = 6  has Coherence Value of 0.42558\n",
      "Num Topics = 7  has Coherence Value of 0.419157\n",
      "Num Topics = 8  has Coherence Value of 0.466657\n",
      "Num Topics = 9  has Coherence Value of 0.455637\n",
      "Num Topics = 10  has Coherence Value of 0.455327\n",
      "Num Topics = 11  has Coherence Value of 0.44948\n",
      "Num Topics = 12  has Coherence Value of 0.432514\n",
      "Num Topics = 13  has Coherence Value of 0.453484\n",
      "Num Topics = 14  has Coherence Value of 0.494481\n",
      "Num Topics = 15  has Coherence Value of 0.472685\n",
      "Num Topics = 16  has Coherence Value of 0.470945\n",
      "Num Topics = 17  has Coherence Value of 0.456381\n",
      "Num Topics = 18  has Coherence Value of 0.472442\n",
      "Num Topics = 19  has Coherence Value of 0.457794\n",
      "Num Topics = 20  has Coherence Value of 0.469795\n",
      "Num Topics = 21  has Coherence Value of 0.458836\n",
      "Num Topics = 22  has Coherence Value of 0.469057\n",
      "Num Topics = 23  has Coherence Value of 0.461738\n",
      "Num Topics = 24  has Coherence Value of 0.448498\n",
      "Num Topics = 25  has Coherence Value of 0.468348\n",
      "Num Topics = 26  has Coherence Value of 0.467917\n",
      "Num Topics = 27  has Coherence Value of 0.473221\n",
      "Num Topics = 28  has Coherence Value of 0.47124\n",
      "Num Topics = 29  has Coherence Value of 0.45991\n",
      "Num Topics = 30  has Coherence Value of 0.46495\n",
      "Num Topics = 31  has Coherence Value of 0.473533\n",
      "Num Topics = 32  has Coherence Value of 0.474308\n",
      "Num Topics = 33  has Coherence Value of 0.470376\n",
      "Num Topics = 34  has Coherence Value of 0.460031\n"
     ]
    }
   ],
   "source": [
    "\n",
    "\n",
    "# Print the coherence scores\n",
    "for m, cv in zip(x, coherence_values):\n",
    "    print(\"Num Topics =\", m, \" has Coherence Value of\", round(cv, 6))\n",
    "\n"
   ]
  },
  {
   "cell_type": "code",
   "execution_count": 33,
   "metadata": {},
   "outputs": [
    {
     "name": "stdout",
     "output_type": "stream",
     "text": [
      "[(0,\n",
      "  '0.286*\"additional\" + 0.143*\"coreo\" + 0.143*\"client\" + 0.143*\"cvs\" + '\n",
      "  '0.143*\"behavioral\" + 0.143*\"member\" + 0.000*\"partner\" + 0.000*\"pharmacy\" + '\n",
      "  '0.000*\"plan\" + 0.000*\"pmimportant\"'),\n",
      " (1,\n",
      "  '0.111*\"premise\" + 0.111*\"discuss\" + 0.111*\"group\" + 0.111*\"today\" + '\n",
      "  '0.056*\"hsa\" + 0.056*\"pmimportant\" + 0.056*\"plan\" + 0.056*\"main\" + '\n",
      "  '0.056*\"hmo\" + 0.056*\"billion\"'),\n",
      " (2,\n",
      "  '0.176*\"client\" + 0.176*\"insurance\" + 0.118*\"anisible\" + 0.118*\"solution\" + '\n",
      "  '0.059*\"sell\" + 0.059*\"july\" + 0.059*\"reza\" + 0.059*\"medicare\" + '\n",
      "  '0.059*\"dental\" + 0.059*\"day\"'),\n",
      " (3,\n",
      "  '0.250*\"information\" + 0.250*\"offer\" + 0.250*\"note\" + 0.125*\"coverage\" + '\n",
      "  '0.125*\"hartford\" + 0.000*\"partner\" + 0.000*\"one\" + 0.000*\"openstack\" + '\n",
      "  '0.000*\"pharmacy\" + 0.000*\"point\"'),\n",
      " (4,\n",
      "  '0.250*\"customer\" + 0.167*\"tuesday\" + 0.167*\"date\" + 0.167*\"primary\" + '\n",
      "  '0.083*\"retirement\" + 0.083*\"half\" + 0.083*\"vision\" + 0.000*\"partner\" + '\n",
      "  '0.000*\"plan\" + 0.000*\"pmimportant\"'),\n",
      " (5,\n",
      "  '0.286*\"focus\" + 0.143*\"red\" + 0.071*\"san\" + 0.071*\"shafii\" + '\n",
      "  '0.071*\"technology\" + 0.071*\"catalog\" + 0.071*\"pharmacy\" + 0.071*\"-PRON-\" + '\n",
      "  '0.071*\"individual\" + 0.071*\"infrastructure\"'),\n",
      " (6,\n",
      "  '0.182*\"relationship\" + 0.182*\"infrastructure\" + 0.091*\"indemnity\" + '\n",
      "  '0.091*\"text\" + 0.091*\"deal\" + 0.091*\"st\" + 0.091*\"insurer\" + 0.091*\"update\" '\n",
      "  '+ 0.091*\"partner\" + 0.000*\"offer\"'),\n",
      " (7,\n",
      "  '0.333*\"health\" + 0.111*\"saving\" + 0.111*\"segment\" + 0.111*\"large\" + '\n",
      "  '0.056*\"million\" + 0.056*\"buy\" + 0.056*\"division\" + 0.056*\"gen\" + '\n",
      "  '0.056*\"point\" + 0.056*\"ansiblenext\"'),\n",
      " (8,\n",
      "  '0.231*\"code\" + 0.154*\"background\" + 0.154*\"production\" + 0.154*\"automation\" '\n",
      "  '+ 0.077*\"medicaid\" + 0.077*\"future\" + 0.077*\"francisco\" + 0.077*\"coreos\" + '\n",
      "  '0.000*\"plan\" + 0.000*\"pharmacy\"'),\n",
      " (9,\n",
      "  '0.286*\"container\" + 0.286*\"ocp\" + 0.143*\"traditional\" + 0.143*\"retail\" + '\n",
      "  '0.143*\"ppo\" + 0.000*\"partner\" + 0.000*\"one\" + 0.000*\"openstack\" + '\n",
      "  '0.000*\"point\" + 0.000*\"pmimportant\"'),\n",
      " (10,\n",
      "  '0.188*\"product\" + 0.188*\"aetna\" + 0.125*\"service\" + 0.125*\"care\" + '\n",
      "  '0.125*\"hat\" + 0.062*\"cover\" + 0.062*\"medical\" + 0.062*\"plan\" + '\n",
      "  '0.062*\"update\" + 0.000*\"openstack\"'),\n",
      " (11,\n",
      "  '0.214*\"technology\" + 0.214*\"cloud\" + 0.143*\"openstack\" + 0.071*\"giant\" + '\n",
      "  '0.071*\"logistic\" + 0.071*\"disability\" + 0.071*\"managementno\" + 0.071*\"life\" '\n",
      "  '+ 0.071*\"cloudformsmain\" + 0.000*\"plan\"')]\n"
     ]
    }
   ],
   "source": [
    "\n",
    "\n",
    "# Select the model and print the topics\n",
    "index, value = max(enumerate(coherence_values), key=operator.itemgetter(1))\n",
    "index = 10\n",
    "optimal_model = model_list[index]\n",
    "model_topics = optimal_model.show_topics(num_topics=1000, formatted=False)\n",
    "pprint(optimal_model.print_topics(num_words=10))\n",
    "\n"
   ]
  },
  {
   "cell_type": "code",
   "execution_count": 34,
   "metadata": {},
   "outputs": [
    {
     "data": {
      "text/plain": [
       "[('additional', 0.2857142857142857),\n",
       " ('coreo', 0.14285714285714285),\n",
       " ('client', 0.14285714285714285),\n",
       " ('cvs', 0.14285714285714285),\n",
       " ('behavioral', 0.14285714285714285),\n",
       " ('member', 0.14285714285714285),\n",
       " ('partner', 0.0),\n",
       " ('pharmacy', 0.0),\n",
       " ('plan', 0.0),\n",
       " ('pmimportant', 0.0)]"
      ]
     },
     "execution_count": 34,
     "metadata": {},
     "output_type": "execute_result"
    }
   ],
   "source": [
    "optimal_model.show_topic(0,10)"
   ]
  },
  {
   "cell_type": "code",
   "execution_count": 35,
   "metadata": {},
   "outputs": [
    {
     "name": "stdout",
     "output_type": "stream",
     "text": [
      "Topic 0: ['additional', 'coreo', 'client', 'cvs', 'behavioral', 'member', 'partner', 'pharmacy', 'plan', 'pmimportant']\n",
      "Topic 1: ['premise', 'discuss', 'group', 'today', 'hsa', 'pmimportant', 'plan', 'main', 'hmo', 'billion']\n",
      "Topic 2: ['client', 'insurance', 'anisible', 'solution', 'sell', 'july', 'reza', 'medicare', 'dental', 'day']\n",
      "Topic 3: ['information', 'offer', 'note', 'coverage', 'hartford', 'partner', 'one', 'openstack', 'pharmacy', 'point']\n",
      "Topic 4: ['customer', 'tuesday', 'date', 'primary', 'retirement', 'half', 'vision', 'partner', 'plan', 'pmimportant']\n",
      "Topic 5: ['focus', 'red', 'san', 'shafii', 'technology', 'catalog', 'pharmacy', '-PRON-', 'individual', 'infrastructure']\n",
      "Topic 6: ['relationship', 'infrastructure', 'indemnity', 'text', 'deal', 'st', 'insurer', 'update', 'partner', 'offer']\n",
      "Topic 7: ['health', 'saving', 'segment', 'large', 'million', 'buy', 'division', 'gen', 'point', 'ansiblenext']\n",
      "Topic 8: ['code', 'background', 'production', 'automation', 'medicaid', 'future', 'francisco', 'coreos', 'plan', 'pharmacy']\n",
      "Topic 9: ['container', 'ocp', 'traditional', 'retail', 'ppo', 'partner', 'one', 'openstack', 'point', 'pmimportant']\n",
      "Topic 10: ['product', 'aetna', 'service', 'care', 'hat', 'cover', 'medical', 'plan', 'update', 'openstack']\n",
      "Topic 11: ['technology', 'cloud', 'openstack', 'giant', 'logistic', 'disability', 'managementno', 'life', 'cloudformsmain', 'plan']\n"
     ]
    }
   ],
   "source": [
    "for topic in sorted(optimal_model.show_topics(num_topics=1000, num_words=10, formatted=False), key=lambda x: x[0]):\n",
    "    print('Topic {}: {}'.format(topic[0], [item[0] for item in topic[1]]))"
   ]
  },
  {
   "cell_type": "code",
   "execution_count": 36,
   "metadata": {},
   "outputs": [
    {
     "data": {
      "text/html": [
       "<div>\n",
       "<style scoped>\n",
       "    .dataframe tbody tr th:only-of-type {\n",
       "        vertical-align: middle;\n",
       "    }\n",
       "\n",
       "    .dataframe tbody tr th {\n",
       "        vertical-align: top;\n",
       "    }\n",
       "\n",
       "    .dataframe thead th {\n",
       "        text-align: right;\n",
       "    }\n",
       "</style>\n",
       "<table border=\"1\" class=\"dataframe\">\n",
       "  <thead>\n",
       "    <tr style=\"text-align: right;\">\n",
       "      <th></th>\n",
       "      <th>Document_No</th>\n",
       "      <th>Dominant_Topic</th>\n",
       "      <th>Topic_Perc_Contrib</th>\n",
       "      <th>Keywords</th>\n",
       "      <th>Text</th>\n",
       "    </tr>\n",
       "  </thead>\n",
       "  <tbody>\n",
       "    <tr>\n",
       "      <th>0</th>\n",
       "      <td>0</td>\n",
       "      <td>1.0</td>\n",
       "      <td>0.107</td>\n",
       "      <td>premise, discuss, group, today, hsa, pmimporta...</td>\n",
       "      <td>Customer/Partner Name:Briefing Date:  Tuesday7...</td>\n",
       "    </tr>\n",
       "  </tbody>\n",
       "</table>\n",
       "</div>"
      ],
      "text/plain": [
       "   Document_No  Dominant_Topic  Topic_Perc_Contrib  \\\n",
       "0            0             1.0               0.107   \n",
       "\n",
       "                                            Keywords  \\\n",
       "0  premise, discuss, group, today, hsa, pmimporta...   \n",
       "\n",
       "                                                Text  \n",
       "0  Customer/Partner Name:Briefing Date:  Tuesday7...  "
      ]
     },
     "execution_count": 36,
     "metadata": {},
     "output_type": "execute_result"
    }
   ],
   "source": [
    "def format_topics_sentences(ldamodel=lda_model, corpus=corpus, texts=data):\n",
    "    # Init output\n",
    "    sent_topics_df = pd.DataFrame()\n",
    "\n",
    "    # Get main topic in each document\n",
    "    for i, row in enumerate(ldamodel[corpus]):\n",
    "        row = sorted(row, key=lambda x: (x[1]), reverse=True)\n",
    "        # Get the Dominant topic, Perc Contribution and Keywords for each document\n",
    "        for j, (topic_num, prop_topic) in enumerate(row):\n",
    "            if j == 0:  # => dominant topic\n",
    "                wp = ldamodel.show_topic(topic_num)\n",
    "                topic_keywords = \", \".join([word for word, prop in wp])\n",
    "                sent_topics_df = sent_topics_df.append(pd.Series([int(topic_num), round(prop_topic,4), topic_keywords]), ignore_index=True)\n",
    "            else:\n",
    "                break\n",
    "    sent_topics_df.columns = ['Dominant_Topic', 'Perc_Contribution', 'Topic_Keywords']\n",
    "\n",
    "    # Add original text to the end of the output\n",
    "    contents = pd.Series(texts)\n",
    "    sent_topics_df = pd.concat([sent_topics_df, contents], axis=1)\n",
    "    return(sent_topics_df)\n",
    "\n",
    "\n",
    "df_topic_sents_keywords = format_topics_sentences(ldamodel=optimal_model, corpus=corpus, texts=data)\n",
    "\n",
    "# Format\n",
    "df_dominant_topic = df_topic_sents_keywords.reset_index()\n",
    "df_dominant_topic.columns = ['Document_No', 'Dominant_Topic', 'Topic_Perc_Contrib', 'Keywords', 'Text']\n",
    "\n",
    "# Show\n",
    "df_dominant_topic"
   ]
  },
  {
   "cell_type": "code",
   "execution_count": 37,
   "metadata": {},
   "outputs": [
    {
     "data": {
      "text/html": [
       "<div>\n",
       "<style scoped>\n",
       "    .dataframe tbody tr th:only-of-type {\n",
       "        vertical-align: middle;\n",
       "    }\n",
       "\n",
       "    .dataframe tbody tr th {\n",
       "        vertical-align: top;\n",
       "    }\n",
       "\n",
       "    .dataframe thead th {\n",
       "        text-align: right;\n",
       "    }\n",
       "</style>\n",
       "<table border=\"1\" class=\"dataframe\">\n",
       "  <thead>\n",
       "    <tr style=\"text-align: right;\">\n",
       "      <th></th>\n",
       "      <th>Document_No</th>\n",
       "      <th>Dominant_Topic</th>\n",
       "      <th>Topic_Perc_Contrib</th>\n",
       "      <th>Keywords</th>\n",
       "      <th>Text</th>\n",
       "    </tr>\n",
       "  </thead>\n",
       "  <tbody>\n",
       "    <tr>\n",
       "      <th>0</th>\n",
       "      <td>0</td>\n",
       "      <td>1.0</td>\n",
       "      <td>0.107</td>\n",
       "      <td>premise, discuss, group, today, hsa, pmimporta...</td>\n",
       "      <td>Customer/Partner Name:Briefing Date:  Tuesday7...</td>\n",
       "    </tr>\n",
       "  </tbody>\n",
       "</table>\n",
       "</div>"
      ],
      "text/plain": [
       "   Document_No  Dominant_Topic  Topic_Perc_Contrib  \\\n",
       "0            0             1.0               0.107   \n",
       "\n",
       "                                            Keywords  \\\n",
       "0  premise, discuss, group, today, hsa, pmimporta...   \n",
       "\n",
       "                                                Text  \n",
       "0  Customer/Partner Name:Briefing Date:  Tuesday7...  "
      ]
     },
     "execution_count": 37,
     "metadata": {},
     "output_type": "execute_result"
    }
   ],
   "source": [
    "df_dominant_topic[df_dominant_topic['Dominant_Topic'].isin([0, 1])]"
   ]
  },
  {
   "cell_type": "code",
   "execution_count": 38,
   "metadata": {},
   "outputs": [
    {
     "data": {
      "text/plain": [
       "[['premise,',\n",
       "  'discuss,',\n",
       "  'group,',\n",
       "  'today,',\n",
       "  'hsa,',\n",
       "  'pmimportant,',\n",
       "  'plan,',\n",
       "  'main,',\n",
       "  'hmo,',\n",
       "  'billion']]"
      ]
     },
     "execution_count": 38,
     "metadata": {},
     "output_type": "execute_result"
    }
   ],
   "source": [
    "[text.split() for text in df_dominant_topic['Keywords'].tolist()]"
   ]
  },
  {
   "cell_type": "code",
   "execution_count": 39,
   "metadata": {},
   "outputs": [
    {
     "name": "stdout",
     "output_type": "stream",
     "text": [
      "0. Dominant keywords: ['premise', 'discuss', 'group', 'today', 'hsa']\n"
     ]
    }
   ],
   "source": [
    "\n",
    "\n",
    "for idx, row in df_dominant_topic.iterrows():\n",
    "    print('{}. Dominant keywords: {}'.format(row['Document_No'], row['Keywords'].split(', ')[:5]))\n",
    "\n"
   ]
  },
  {
   "cell_type": "code",
   "execution_count": 40,
   "metadata": {},
   "outputs": [
    {
     "data": {
      "text/html": [
       "<div>\n",
       "<style scoped>\n",
       "    .dataframe tbody tr th:only-of-type {\n",
       "        vertical-align: middle;\n",
       "    }\n",
       "\n",
       "    .dataframe tbody tr th {\n",
       "        vertical-align: top;\n",
       "    }\n",
       "\n",
       "    .dataframe thead th {\n",
       "        text-align: right;\n",
       "    }\n",
       "</style>\n",
       "<table border=\"1\" class=\"dataframe\">\n",
       "  <thead>\n",
       "    <tr style=\"text-align: right;\">\n",
       "      <th></th>\n",
       "      <th>Topic_Num</th>\n",
       "      <th>Topic_Perc_Contrib</th>\n",
       "      <th>Keywords</th>\n",
       "      <th>Text</th>\n",
       "    </tr>\n",
       "  </thead>\n",
       "  <tbody>\n",
       "    <tr>\n",
       "      <th>0</th>\n",
       "      <td>1.0</td>\n",
       "      <td>0.107</td>\n",
       "      <td>premise, discuss, group, today, hsa, pmimporta...</td>\n",
       "      <td>Customer/Partner Name:Briefing Date:  Tuesday7...</td>\n",
       "    </tr>\n",
       "  </tbody>\n",
       "</table>\n",
       "</div>"
      ],
      "text/plain": [
       "   Topic_Num  Topic_Perc_Contrib  \\\n",
       "0        1.0               0.107   \n",
       "\n",
       "                                            Keywords  \\\n",
       "0  premise, discuss, group, today, hsa, pmimporta...   \n",
       "\n",
       "                                                Text  \n",
       "0  Customer/Partner Name:Briefing Date:  Tuesday7...  "
      ]
     },
     "execution_count": 40,
     "metadata": {},
     "output_type": "execute_result"
    }
   ],
   "source": [
    "# Group top 5 sentences under each topic\n",
    "sent_topics_sorteddf_mallet = pd.DataFrame()\n",
    "\n",
    "sent_topics_outdf_grpd = df_topic_sents_keywords.groupby('Dominant_Topic')\n",
    "\n",
    "for i, grp in sent_topics_outdf_grpd:\n",
    "    sent_topics_sorteddf_mallet = pd.concat([sent_topics_sorteddf_mallet, \n",
    "                                             grp.sort_values(['Perc_Contribution'], ascending=[0]).head(1)], \n",
    "                                            axis=0)\n",
    "\n",
    "# Reset Index    \n",
    "sent_topics_sorteddf_mallet.reset_index(drop=True, inplace=True)\n",
    "\n",
    "# Format\n",
    "sent_topics_sorteddf_mallet.columns = ['Topic_Num', \"Topic_Perc_Contrib\", \"Keywords\", \"Text\"]\n",
    "\n",
    "# Show\n",
    "sent_topics_sorteddf_mallet"
   ]
  },
  {
   "cell_type": "code",
   "execution_count": 41,
   "metadata": {},
   "outputs": [
    {
     "name": "stdout",
     "output_type": "stream",
     "text": [
      "Topic number 1\n",
      "Keywords: premise, discuss, group, today, hsa, pmimportant, plan, main, hmo, billion\n",
      "\n",
      "Customer/Partner Name:Briefing Date:  Tuesday7/31 (San Francisco)9-1 Need to figure out logistics and accessImportant Customer Background Information:Client Relationship, Red Hat Technology Update focusing on Container Technology, On premise Cloud, Infrastructure as Code and Automation.  Client has OCP, OpenStack and Anisible in Production today.Primary Focus for the Briefing:OpenStackOpenShift/CoreOS Futures,  Infrastructure as Code, AnsibleNext Gen Cloud Service Catalog managementNO CLOUDFORMSMain Product/Solutions wanting to discuss:Additional Notes:Reza Shafii (CoreOS)Briefing Date: Tuesday July 31st half-day 8:30 -1:00pmImportant Customer Background Information:Aetna is one of the largest health insurers in the US, also offers life and disability insurance, as well as retirement savings products. Its health care division offers HMO, PPO, point of service (POS), health savings account (HSA), and traditional indemnity coverage, along with dental, vision, behavioral health, and Medicare and Medicaid plans, to groups and individuals. The health care segment covers some 23 million medical members. Aetna's sold it group insurance segment to The Hartford.  In what would be the largest health insurance deal in history, retail pharmacy giant CVS plans to buy Aetna for $69 billion.Primary Focus for the Briefing:Client Relationship, Red Hat Technology Update focusing on Container Technology, On premise Cloud, Infrastructure as Code and Automation.  Client has OCP, OpenStack and Anisible in Production today.Main Product/Solutions wanting to discuss:Additional Notes:\n",
      "\n",
      "text \n",
      "....\n",
      "\n",
      "\n"
     ]
    }
   ],
   "source": [
    "for idx, row in sent_topics_sorteddf_mallet.iterrows():\n",
    "    print('Topic number {}'.format(int(row['Topic_Num'])))\n",
    "    print('Keywords: {}'.format(row['Keywords']))\n",
    "    print()\n",
    "    print(row['Text'])\n",
    "    print()"
   ]
  },
  {
   "cell_type": "code",
   "execution_count": 42,
   "metadata": {},
   "outputs": [
    {
     "data": {
      "text/html": [
       "<div>\n",
       "<style scoped>\n",
       "    .dataframe tbody tr th:only-of-type {\n",
       "        vertical-align: middle;\n",
       "    }\n",
       "\n",
       "    .dataframe tbody tr th {\n",
       "        vertical-align: top;\n",
       "    }\n",
       "\n",
       "    .dataframe thead th {\n",
       "        text-align: right;\n",
       "    }\n",
       "</style>\n",
       "<table border=\"1\" class=\"dataframe\">\n",
       "  <thead>\n",
       "    <tr style=\"text-align: right;\">\n",
       "      <th></th>\n",
       "      <th>Dominant_Topic</th>\n",
       "      <th>Topic_Keywords</th>\n",
       "      <th>Num_Documents</th>\n",
       "      <th>Percent_Documents</th>\n",
       "    </tr>\n",
       "  </thead>\n",
       "  <tbody>\n",
       "    <tr>\n",
       "      <th>0.0</th>\n",
       "      <td>1.0</td>\n",
       "      <td>premise, discuss, group, today, hsa, pmimporta...</td>\n",
       "      <td>NaN</td>\n",
       "      <td>NaN</td>\n",
       "    </tr>\n",
       "    <tr>\n",
       "      <th>1.0</th>\n",
       "      <td>NaN</td>\n",
       "      <td>NaN</td>\n",
       "      <td>1.0</td>\n",
       "      <td>1.0</td>\n",
       "    </tr>\n",
       "  </tbody>\n",
       "</table>\n",
       "</div>"
      ],
      "text/plain": [
       "     Dominant_Topic                                     Topic_Keywords  \\\n",
       "0.0             1.0  premise, discuss, group, today, hsa, pmimporta...   \n",
       "1.0             NaN                                                NaN   \n",
       "\n",
       "     Num_Documents  Percent_Documents  \n",
       "0.0            NaN                NaN  \n",
       "1.0            1.0                1.0  "
      ]
     },
     "execution_count": 42,
     "metadata": {},
     "output_type": "execute_result"
    }
   ],
   "source": [
    "# Number of Documents for Each Topic\n",
    "topic_counts = df_topic_sents_keywords['Dominant_Topic'].value_counts()\n",
    "\n",
    "# Percentage of Documents for Each Topic\n",
    "topic_contribution = round(topic_counts/topic_counts.sum(), 4)\n",
    "\n",
    "# Topic Number and Keywords\n",
    "topic_num_keywords = sent_topics_sorteddf_mallet[['Topic_Num', 'Keywords']]\n",
    "\n",
    "# Concatenate Column wise\n",
    "df_dominant_topics = pd.concat([topic_num_keywords, topic_counts, topic_contribution], axis=1)\n",
    "\n",
    "# Change Column names\n",
    "df_dominant_topics.columns = ['Dominant_Topic', 'Topic_Keywords', 'Num_Documents', 'Percent_Documents']\n",
    "\n",
    "# Show\n",
    "df_dominant_topics"
   ]
  },
  {
   "cell_type": "code",
   "execution_count": 43,
   "metadata": {},
   "outputs": [
    {
     "data": {
      "text/html": [
       "<div>\n",
       "<style scoped>\n",
       "    .dataframe tbody tr th:only-of-type {\n",
       "        vertical-align: middle;\n",
       "    }\n",
       "\n",
       "    .dataframe tbody tr th {\n",
       "        vertical-align: top;\n",
       "    }\n",
       "\n",
       "    .dataframe thead th {\n",
       "        text-align: right;\n",
       "    }\n",
       "</style>\n",
       "<table border=\"1\" class=\"dataframe\">\n",
       "  <thead>\n",
       "    <tr style=\"text-align: right;\">\n",
       "      <th></th>\n",
       "      <th>Dominant_Topic</th>\n",
       "      <th>Topic_Keywords</th>\n",
       "      <th>Num_Documents</th>\n",
       "      <th>Percent_Documents</th>\n",
       "    </tr>\n",
       "  </thead>\n",
       "  <tbody>\n",
       "    <tr>\n",
       "      <th>0.0</th>\n",
       "      <td>1.0</td>\n",
       "      <td>premise, discuss, group, today, hsa, pmimportant, plan, main, hmo, billion</td>\n",
       "      <td>NaN</td>\n",
       "      <td>NaN</td>\n",
       "    </tr>\n",
       "    <tr>\n",
       "      <th>1.0</th>\n",
       "      <td>NaN</td>\n",
       "      <td>NaN</td>\n",
       "      <td>1.0</td>\n",
       "      <td>1.0</td>\n",
       "    </tr>\n",
       "  </tbody>\n",
       "</table>\n",
       "</div>"
      ],
      "text/plain": [
       "     Dominant_Topic  \\\n",
       "0.0  1.0              \n",
       "1.0 NaN               \n",
       "\n",
       "                                                                 Topic_Keywords  \\\n",
       "0.0  premise, discuss, group, today, hsa, pmimportant, plan, main, hmo, billion   \n",
       "1.0  NaN                                                                          \n",
       "\n",
       "     Num_Documents  Percent_Documents  \n",
       "0.0 NaN            NaN                 \n",
       "1.0  1.0            1.0                "
      ]
     },
     "metadata": {},
     "output_type": "display_data"
    }
   ],
   "source": [
    "\n",
    "\n",
    "with pd.option_context('display.max_rows', None, 'display.max_columns', None):\n",
    "    pd.set_option('display.max_colwidth', -1)\n",
    "    display(df_dominant_topics)\n",
    "\n"
   ]
  },
  {
   "cell_type": "code",
   "execution_count": 44,
   "metadata": {},
   "outputs": [],
   "source": [
    "df_dominant_topics.to_csv('df_dominant_topics.csv', index=False)"
   ]
  },
  {
   "cell_type": "code",
   "execution_count": null,
   "metadata": {},
   "outputs": [],
   "source": []
  }
 ],
 "metadata": {
  "kernelspec": {
   "display_name": "Python 3",
   "language": "python",
   "name": "python3"
  },
  "language_info": {
   "codemirror_mode": {
    "name": "ipython",
    "version": 3
   },
   "file_extension": ".py",
   "mimetype": "text/x-python",
   "name": "python",
   "nbconvert_exporter": "python",
   "pygments_lexer": "ipython3",
   "version": "3.7.3"
  }
 },
 "nbformat": 4,
 "nbformat_minor": 2
}
